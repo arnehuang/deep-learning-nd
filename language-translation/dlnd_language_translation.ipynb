{
 "cells": [
  {
   "cell_type": "markdown",
   "metadata": {
    "collapsed": true
   },
   "source": [
    "# Language Translation\n",
    "In this project, you’re going to take a peek into the realm of neural network machine translation.  You’ll be training a sequence to sequence model on a dataset of English and French sentences that can translate new sentences from English to French.\n",
    "## Get the Data\n",
    "Since translating the whole language of English to French will take lots of time to train, we have provided you with a small portion of the English corpus."
   ]
  },
  {
   "cell_type": "code",
   "execution_count": 49,
   "metadata": {
    "collapsed": true
   },
   "outputs": [],
   "source": [
    "\"\"\"\n",
    "DON'T MODIFY ANYTHING IN THIS CELL\n",
    "\"\"\"\n",
    "import helper\n",
    "import problem_unittests as tests\n",
    "\n",
    "source_path = 'data/small_vocab_en'\n",
    "target_path = 'data/small_vocab_fr'\n",
    "source_text = helper.load_data(source_path)\n",
    "target_text = helper.load_data(target_path)"
   ]
  },
  {
   "cell_type": "markdown",
   "metadata": {},
   "source": [
    "## Explore the Data\n",
    "Play around with view_sentence_range to view different parts of the data."
   ]
  },
  {
   "cell_type": "code",
   "execution_count": 50,
   "metadata": {
    "collapsed": false
   },
   "outputs": [
    {
     "name": "stdout",
     "output_type": "stream",
     "text": [
      "Dataset Stats\n",
      "Roughly the number of unique words: 227\n",
      "Number of sentences: 137861\n",
      "Average number of words in a sentence: 13.225277634719028\n",
      "\n",
      "English sentences 0 to 10:\n",
      "new jersey is sometimes quiet during autumn , and it is snowy in april .\n",
      "the united states is usually chilly during july , and it is usually freezing in november .\n",
      "california is usually quiet during march , and it is usually hot in june .\n",
      "the united states is sometimes mild during june , and it is cold in september .\n",
      "your least liked fruit is the grape , but my least liked is the apple .\n",
      "his favorite fruit is the orange , but my favorite is the grape .\n",
      "paris is relaxing during december , but it is usually chilly in july .\n",
      "new jersey is busy during spring , and it is never hot in march .\n",
      "our least liked fruit is the lemon , but my least liked is the grape .\n",
      "the united states is sometimes busy during january , and it is sometimes warm in november .\n",
      "\n",
      "French sentences 0 to 10:\n",
      "new jersey est parfois calme pendant l' automne , et il est neigeux en avril .\n",
      "les états-unis est généralement froid en juillet , et il gèle habituellement en novembre .\n",
      "california est généralement calme en mars , et il est généralement chaud en juin .\n",
      "les états-unis est parfois légère en juin , et il fait froid en septembre .\n",
      "votre moins aimé fruit est le raisin , mais mon moins aimé est la pomme .\n",
      "son fruit préféré est l'orange , mais mon préféré est le raisin .\n",
      "paris est relaxant en décembre , mais il est généralement froid en juillet .\n",
      "new jersey est occupé au printemps , et il est jamais chaude en mars .\n",
      "notre fruit est moins aimé le citron , mais mon moins aimé est le raisin .\n",
      "les états-unis est parfois occupé en janvier , et il est parfois chaud en novembre .\n"
     ]
    }
   ],
   "source": [
    "view_sentence_range = (0, 10)\n",
    "\n",
    "\"\"\"\n",
    "DON'T MODIFY ANYTHING IN THIS CELL\n",
    "\"\"\"\n",
    "import numpy as np\n",
    "\n",
    "print('Dataset Stats')\n",
    "print('Roughly the number of unique words: {}'.format(len({word: None for word in source_text.split()})))\n",
    "\n",
    "sentences = source_text.split('\\n')\n",
    "word_counts = [len(sentence.split()) for sentence in sentences]\n",
    "print('Number of sentences: {}'.format(len(sentences)))\n",
    "print('Average number of words in a sentence: {}'.format(np.average(word_counts)))\n",
    "\n",
    "print()\n",
    "print('English sentences {} to {}:'.format(*view_sentence_range))\n",
    "print('\\n'.join(source_text.split('\\n')[view_sentence_range[0]:view_sentence_range[1]]))\n",
    "print()\n",
    "print('French sentences {} to {}:'.format(*view_sentence_range))\n",
    "print('\\n'.join(target_text.split('\\n')[view_sentence_range[0]:view_sentence_range[1]]))"
   ]
  },
  {
   "cell_type": "markdown",
   "metadata": {},
   "source": [
    "## Implement Preprocessing Function\n",
    "### Text to Word Ids\n",
    "As you did with other RNNs, you must turn the text into a number so the computer can understand it. In the function `text_to_ids()`, you'll turn `source_text` and `target_text` from words to ids.  However, you need to add the `<EOS>` word id at the end of `target_text`.  This will help the neural network predict when the sentence should end.\n",
    "\n",
    "You can get the `<EOS>` word id by doing:\n",
    "```python\n",
    "target_vocab_to_int['<EOS>']\n",
    "```\n",
    "You can get other word ids using `source_vocab_to_int` and `target_vocab_to_int`."
   ]
  },
  {
   "cell_type": "code",
   "execution_count": 51,
   "metadata": {
    "collapsed": false
   },
   "outputs": [
    {
     "name": "stdout",
     "output_type": "stream",
     "text": [
      "Tests Passed\n"
     ]
    }
   ],
   "source": [
    "def text_to_ids(source_text, target_text, source_vocab_to_int, target_vocab_to_int):\n",
    "    \"\"\"\n",
    "    Convert source and target text to proper word ids\n",
    "    :param source_text: String that contains all the source text.\n",
    "    :param target_text: String that contains all the target text.\n",
    "    :param source_vocab_to_int: Dictionary to go from the source words to an id\n",
    "    :param target_vocab_to_int: Dictionary to go from the target words to an id\n",
    "    :return: A tuple of lists (source_id_text, target_id_text)\n",
    "    \"\"\"\n",
    "    # TODO: Implement Function\n",
    "    \n",
    "    #return list of lists of ints, one list per line in source, same for target\n",
    "    source_id_text = [[source_vocab_to_int[aword] for aword in aline.split()] for aline in source_text.split('\\n')]\n",
    "    target_id_text = [[target_vocab_to_int[aword] for aword in aline.split()] + [target_vocab_to_int['<EOS>']] for aline in target_text.split('\\n')]\n",
    "    return source_id_text, target_id_text\n",
    "\n",
    "\"\"\"\n",
    "DON'T MODIFY ANYTHING IN THIS CELL THAT IS BELOW THIS LINE\n",
    "\"\"\"\n",
    "tests.test_text_to_ids(text_to_ids)"
   ]
  },
  {
   "cell_type": "markdown",
   "metadata": {},
   "source": [
    "### Preprocess all the data and save it\n",
    "Running the code cell below will preprocess all the data and save it to file."
   ]
  },
  {
   "cell_type": "code",
   "execution_count": 52,
   "metadata": {
    "collapsed": true
   },
   "outputs": [],
   "source": [
    "\"\"\"\n",
    "DON'T MODIFY ANYTHING IN THIS CELL\n",
    "\"\"\"\n",
    "helper.preprocess_and_save_data(source_path, target_path, text_to_ids)"
   ]
  },
  {
   "cell_type": "markdown",
   "metadata": {},
   "source": [
    "# Check Point\n",
    "This is your first checkpoint. If you ever decide to come back to this notebook or have to restart the notebook, you can start from here. The preprocessed data has been saved to disk."
   ]
  },
  {
   "cell_type": "code",
   "execution_count": 53,
   "metadata": {
    "collapsed": true
   },
   "outputs": [],
   "source": [
    "\"\"\"\n",
    "DON'T MODIFY ANYTHING IN THIS CELL\n",
    "\"\"\"\n",
    "import numpy as np\n",
    "import helper\n",
    "import problem_unittests as tests\n",
    "\n",
    "(source_int_text, target_int_text), (source_vocab_to_int, target_vocab_to_int), _ = helper.load_preprocess()"
   ]
  },
  {
   "cell_type": "markdown",
   "metadata": {},
   "source": [
    "### Check the Version of TensorFlow and Access to GPU\n",
    "This will check to make sure you have the correct version of TensorFlow and access to a GPU"
   ]
  },
  {
   "cell_type": "code",
   "execution_count": 54,
   "metadata": {
    "collapsed": false
   },
   "outputs": [
    {
     "name": "stdout",
     "output_type": "stream",
     "text": [
      "TensorFlow Version: 1.1.0\n"
     ]
    },
    {
     "name": "stderr",
     "output_type": "stream",
     "text": [
      "C:\\Users\\Arne\\Anaconda3\\envs\\tensorflow-win\\lib\\site-packages\\ipykernel\\__main__.py:15: UserWarning: No GPU found. Please use a GPU to train your neural network.\n"
     ]
    }
   ],
   "source": [
    "\"\"\"\n",
    "DON'T MODIFY ANYTHING IN THIS CELL\n",
    "\"\"\"\n",
    "from distutils.version import LooseVersion\n",
    "import warnings\n",
    "import tensorflow as tf\n",
    "from tensorflow.python.layers.core import Dense\n",
    "\n",
    "# Check TensorFlow Version\n",
    "assert LooseVersion(tf.__version__) >= LooseVersion('1.1'), 'Please use TensorFlow version 1.1 or newer'\n",
    "print('TensorFlow Version: {}'.format(tf.__version__))\n",
    "\n",
    "# Check for a GPU\n",
    "if not tf.test.gpu_device_name():\n",
    "    warnings.warn('No GPU found. Please use a GPU to train your neural network.')\n",
    "else:\n",
    "    print('Default GPU Device: {}'.format(tf.test.gpu_device_name()))"
   ]
  },
  {
   "cell_type": "markdown",
   "metadata": {},
   "source": [
    "## Build the Neural Network\n",
    "You'll build the components necessary to build a Sequence-to-Sequence model by implementing the following functions below:\n",
    "- `model_inputs`\n",
    "- `process_decoder_input`\n",
    "- `encoding_layer`\n",
    "- `decoding_layer_train`\n",
    "- `decoding_layer_infer`\n",
    "- `decoding_layer`\n",
    "- `seq2seq_model`\n",
    "\n",
    "### Input\n",
    "Implement the `model_inputs()` function to create TF Placeholders for the Neural Network. It should create the following placeholders:\n",
    "\n",
    "- Input text placeholder named \"input\" using the TF Placeholder name parameter with rank 2.\n",
    "- Targets placeholder with rank 2.\n",
    "- Learning rate placeholder with rank 0.\n",
    "- Keep probability placeholder named \"keep_prob\" using the TF Placeholder name parameter with rank 0.\n",
    "- Target sequence length placeholder named \"target_sequence_length\" with rank 1\n",
    "- Max target sequence length tensor named \"max_target_len\" getting its value from applying tf.reduce_max on the target_sequence_length placeholder. Rank 0.\n",
    "- Source sequence length placeholder named \"source_sequence_length\" with rank 1\n",
    "\n",
    "Return the placeholders in the following the tuple (input, targets, learning rate, keep probability, target sequence length, max target sequence length, source sequence length)"
   ]
  },
  {
   "cell_type": "code",
   "execution_count": 55,
   "metadata": {
    "collapsed": false
   },
   "outputs": [
    {
     "name": "stdout",
     "output_type": "stream",
     "text": [
      "Tests Passed\n"
     ]
    }
   ],
   "source": [
    "def model_inputs():\n",
    "    \"\"\"\n",
    "    Create TF Placeholders for input, targets, learning rate, and lengths of source and target sequences.\n",
    "    :return: Tuple (input, targets, learning rate, keep probability, target sequence length,\n",
    "    max target sequence length, source sequence length)\n",
    "    \"\"\"\n",
    "    # TODO: Implement Function\n",
    "    input_ = tf.placeholder(dtype=tf.int32, shape=(None, None), name=\"input\")\n",
    "    targets = tf.placeholder(dtype=tf.int32, shape=(None, None), name=\"targets\")\n",
    "    learning_rate = tf.placeholder(dtype=tf.float32, name=\"learning_rate\")\n",
    "    keep_prob = tf.placeholder(dtype=tf.float32, name=\"keep_prob\")\n",
    "    target_sequence_length = tf.placeholder(dtype=tf.int32, shape=(None, ), name=\"target_sequence_length\")\n",
    "    max_target_len = tf.reduce_max(target_sequence_length, name=\"max_target_len\")\n",
    "    source_sequence_length = tf.placeholder(dtype=tf.int32, shape=(None, ), name=\"source_sequence_length\")\n",
    "    return input_, targets, learning_rate, keep_prob, target_sequence_length, max_target_len, source_sequence_length\n",
    "\n",
    "\n",
    "\"\"\"\n",
    "DON'T MODIFY ANYTHING IN THIS CELL THAT IS BELOW THIS LINE\n",
    "\"\"\"\n",
    "tests.test_model_inputs(model_inputs)"
   ]
  },
  {
   "cell_type": "markdown",
   "metadata": {},
   "source": [
    "### Process Decoder Input\n",
    "Implement `process_decoder_input` by removing the last word id from each batch in `target_data` and concat the GO ID to the begining of each batch."
   ]
  },
  {
   "cell_type": "code",
   "execution_count": 56,
   "metadata": {
    "collapsed": false
   },
   "outputs": [
    {
     "name": "stdout",
     "output_type": "stream",
     "text": [
      "Tests Passed\n"
     ]
    }
   ],
   "source": [
    "def process_decoder_input(target_data, target_vocab_to_int, batch_size):\n",
    "    \"\"\"\n",
    "    Preprocess target data for encoding\n",
    "    :param target_data: Target Placehoder\n",
    "    :param target_vocab_to_int: Dictionary to go from the target words to an id\n",
    "    :param batch_size: Batch Size\n",
    "    :return: Preprocessed target data\n",
    "    \"\"\"\n",
    "    # TODO: Implement Function\n",
    "    \n",
    "    removed = tf.strided_slice(target_data, [0,0], [batch_size, -1], [1,1])\n",
    "    concated = tf.concat([tf.fill([batch_size, 1], target_vocab_to_int['<GO>']), removed], 1)\n",
    "    return concated\n",
    "\n",
    "\"\"\"\n",
    "DON'T MODIFY ANYTHING IN THIS CELL THAT IS BELOW THIS LINE\n",
    "\"\"\"\n",
    "tests.test_process_encoding_input(process_decoder_input)"
   ]
  },
  {
   "cell_type": "markdown",
   "metadata": {},
   "source": [
    "### Encoding\n",
    "Implement `encoding_layer()` to create a Encoder RNN layer:\n",
    " * Embed the encoder input using [`tf.contrib.layers.embed_sequence`](https://www.tensorflow.org/api_docs/python/tf/contrib/layers/embed_sequence)\n",
    " * Construct a [stacked](https://github.com/tensorflow/tensorflow/blob/6947f65a374ebf29e74bb71e36fd82760056d82c/tensorflow/docs_src/tutorials/recurrent.md#stacking-multiple-lstms) [`tf.contrib.rnn.LSTMCell`](https://www.tensorflow.org/api_docs/python/tf/contrib/rnn/LSTMCell) wrapped in a [`tf.contrib.rnn.DropoutWrapper`](https://www.tensorflow.org/api_docs/python/tf/contrib/rnn/DropoutWrapper)\n",
    " * Pass cell and embedded input to [`tf.nn.dynamic_rnn()`](https://www.tensorflow.org/api_docs/python/tf/nn/dynamic_rnn)"
   ]
  },
  {
   "cell_type": "code",
   "execution_count": 57,
   "metadata": {
    "collapsed": false,
    "scrolled": false
   },
   "outputs": [
    {
     "name": "stdout",
     "output_type": "stream",
     "text": [
      "Tests Passed\n"
     ]
    }
   ],
   "source": [
    "from imp import reload\n",
    "reload(tests)\n",
    "\n",
    "def encoding_layer(rnn_inputs, rnn_size, num_layers, keep_prob, \n",
    "                   source_sequence_length, source_vocab_size, \n",
    "                   encoding_embedding_size):\n",
    "    \"\"\"\n",
    "    Create encoding layer\n",
    "    :param rnn_inputs: Inputs for the RNN\n",
    "    :param rnn_size: RNN Size\n",
    "    :param num_layers: Number of layers\n",
    "    :param keep_prob: Dropout keep probability\n",
    "    :param source_sequence_length: a list of the lengths of each sequence in the batch\n",
    "    :param source_vocab_size: vocabulary size of source data\n",
    "    :param encoding_embedding_size: embedding size of source data\n",
    "    :return: tuple (RNN output, RNN state)\n",
    "    \"\"\"\n",
    "    # TODO: Implement Function\n",
    "    embed = tf.contrib.layers.embed_sequence(rnn_inputs, source_vocab_size, encoding_embedding_size)\n",
    "#     lstm_cell = tf.contrib.rnn.LSTMCell(rnn_size, initializer=tf.truncated_normal_initializer(stddev=0.05, seed=777))\n",
    "#     drop = tf.contrib.rnn.DropoutWrapper(lstm_cell, output_keep_prob=keep_prob)\n",
    "#     stacked_cells = tf.contrib.rnn.MultiRNNCell(cells=[drop]*num_layers)\n",
    "    \n",
    "    \n",
    "    stacked_cells = tf.contrib.rnn.MultiRNNCell([tf.contrib.rnn.DropoutWrapper(\n",
    "        tf.contrib.rnn.LSTMCell(rnn_size,\n",
    "                                initializer=tf.truncated_normal_initializer(stddev=0.05, seed=777)\n",
    "                               ), output_keep_prob=keep_prob) for _ in range(num_layers)])\n",
    "    \n",
    "    output, state = tf.nn.dynamic_rnn(stacked_cells, inputs=embed, dtype=tf.float32)\n",
    "    return output, state\n",
    "\n",
    "\"\"\"\n",
    "DON'T MODIFY ANYTHING IN THIS CELL THAT IS BELOW THIS LINE\n",
    "\"\"\"\n",
    "tests.test_encoding_layer(encoding_layer)"
   ]
  },
  {
   "cell_type": "markdown",
   "metadata": {},
   "source": [
    "### Decoding - Training\n",
    "Create a training decoding layer:\n",
    "* Create a [`tf.contrib.seq2seq.TrainingHelper`](https://www.tensorflow.org/api_docs/python/tf/contrib/seq2seq/TrainingHelper) \n",
    "* Create a [`tf.contrib.seq2seq.BasicDecoder`](https://www.tensorflow.org/api_docs/python/tf/contrib/seq2seq/BasicDecoder)\n",
    "* Obtain the decoder outputs from [`tf.contrib.seq2seq.dynamic_decode`](https://www.tensorflow.org/api_docs/python/tf/contrib/seq2seq/dynamic_decode)"
   ]
  },
  {
   "cell_type": "code",
   "execution_count": 58,
   "metadata": {
    "collapsed": false
   },
   "outputs": [
    {
     "name": "stdout",
     "output_type": "stream",
     "text": [
      "Tests Passed\n"
     ]
    }
   ],
   "source": [
    "\n",
    "def decoding_layer_train(encoder_state, dec_cell, dec_embed_input, \n",
    "                         target_sequence_length, max_summary_length, \n",
    "                         output_layer, keep_prob):\n",
    "    \"\"\"\n",
    "    Create a decoding layer for training\n",
    "    :param encoder_state: Encoder State\n",
    "    :param dec_cell: Decoder RNN Cell\n",
    "    :param dec_embed_input: Decoder embedded input\n",
    "    :param target_sequence_length: The lengths of each sequence in the target batch\n",
    "    :param max_summary_length: The length of the longest sequence in the batch\n",
    "    :param output_layer: Function to apply the output layer\n",
    "    :param keep_prob: Dropout keep probability\n",
    "    :return: BasicDecoderOutput containing training logits and sample_id\n",
    "    \"\"\"\n",
    "    # TODO: Implement Function\n",
    "    training_helper = tf.contrib.seq2seq.TrainingHelper(dec_embed_input,target_sequence_length)\n",
    "    decoder = tf.contrib.seq2seq.BasicDecoder(dec_cell, training_helper,encoder_state, output_layer=output_layer)\n",
    "    BasicDecoderOutput, _ = tf.contrib.seq2seq.dynamic_decode(decoder, impute_finished=True,maximum_iterations=max_summary_length)\n",
    "    \n",
    "    return BasicDecoderOutput\n",
    "\n",
    "\"\"\"\n",
    "DON'T MODIFY ANYTHING IN THIS CELL THAT IS BELOW THIS LINE\n",
    "\"\"\"\n",
    "tests.test_decoding_layer_train(decoding_layer_train)"
   ]
  },
  {
   "cell_type": "markdown",
   "metadata": {},
   "source": [
    "### Decoding - Inference\n",
    "Create inference decoder:\n",
    "* Create a [`tf.contrib.seq2seq.GreedyEmbeddingHelper`](https://www.tensorflow.org/api_docs/python/tf/contrib/seq2seq/GreedyEmbeddingHelper)\n",
    "* Create a [`tf.contrib.seq2seq.BasicDecoder`](https://www.tensorflow.org/api_docs/python/tf/contrib/seq2seq/BasicDecoder)\n",
    "* Obtain the decoder outputs from [`tf.contrib.seq2seq.dynamic_decode`](https://www.tensorflow.org/api_docs/python/tf/contrib/seq2seq/dynamic_decode)"
   ]
  },
  {
   "cell_type": "code",
   "execution_count": 59,
   "metadata": {
    "collapsed": false,
    "scrolled": true
   },
   "outputs": [
    {
     "name": "stdout",
     "output_type": "stream",
     "text": [
      "Tests Passed\n"
     ]
    }
   ],
   "source": [
    "def decoding_layer_infer(encoder_state, dec_cell, dec_embeddings, start_of_sequence_id,\n",
    "                         end_of_sequence_id, max_target_sequence_length,\n",
    "                         vocab_size, output_layer, batch_size, keep_prob):\n",
    "    \"\"\"\n",
    "    Create a decoding layer for inference\n",
    "    :param encoder_state: Encoder state\n",
    "    :param dec_cell: Decoder RNN Cell\n",
    "    :param dec_embeddings: Decoder embeddings\n",
    "    :param start_of_sequence_id: GO ID\n",
    "    :param end_of_sequence_id: EOS Id\n",
    "    :param max_target_sequence_length: Maximum length of target sequences\n",
    "    :param vocab_size: Size of decoder/target vocabulary\n",
    "    :param decoding_scope: TenorFlow Variable Scope for decoding\n",
    "    :param output_layer: Function to apply the output layer\n",
    "    :param batch_size: Batch size\n",
    "    :param keep_prob: Dropout keep probability\n",
    "    :return: BasicDecoderOutput containing inference logits and sample_id\n",
    "    \"\"\"\n",
    "    # TODO: Implement Function\n",
    "    start_tokens = tf.tile(tf.constant([start_of_sequence_id], dtype=tf.int32), [batch_size], name='start_tokens')\n",
    "    helper = tf.contrib.seq2seq.GreedyEmbeddingHelper(dec_embeddings,start_tokens, end_of_sequence_id)\n",
    "    decoder = tf.contrib.seq2seq.BasicDecoder(dec_cell,helper, encoder_state, output_layer)\n",
    "    BasicDecoderOutput, _ = tf.contrib.seq2seq.dynamic_decode(decoder,impute_finished=True,maximum_iterations=max_target_sequence_length)\n",
    "    \n",
    "    return BasicDecoderOutput\n",
    "\n",
    "\"\"\"\n",
    "DON'T MODIFY ANYTHING IN THIS CELL THAT IS BELOW THIS LINE\n",
    "\"\"\"\n",
    "tests.test_decoding_layer_infer(decoding_layer_infer)"
   ]
  },
  {
   "cell_type": "markdown",
   "metadata": {},
   "source": [
    "### Build the Decoding Layer\n",
    "Implement `decoding_layer()` to create a Decoder RNN layer.\n",
    "\n",
    "* Embed the target sequences\n",
    "* Construct the decoder LSTM cell (just like you constructed the encoder cell above)\n",
    "* Create an output layer to map the outputs of the decoder to the elements of our vocabulary\n",
    "* Use the your `decoding_layer_train(encoder_state, dec_cell, dec_embed_input, target_sequence_length, max_target_sequence_length, output_layer, keep_prob)` function to get the training logits.\n",
    "* Use your `decoding_layer_infer(encoder_state, dec_cell, dec_embeddings, start_of_sequence_id, end_of_sequence_id, max_target_sequence_length, vocab_size, output_layer, batch_size, keep_prob)` function to get the inference logits.\n",
    "\n",
    "Note: You'll need to use [tf.variable_scope](https://www.tensorflow.org/api_docs/python/tf/variable_scope) to share variables between training and inference."
   ]
  },
  {
   "cell_type": "code",
   "execution_count": 60,
   "metadata": {
    "collapsed": false
   },
   "outputs": [
    {
     "name": "stdout",
     "output_type": "stream",
     "text": [
      "Tests Passed\n"
     ]
    }
   ],
   "source": [
    "def decoding_layer(dec_input, encoder_state,\n",
    "                   target_sequence_length, max_target_sequence_length,\n",
    "                   rnn_size,\n",
    "                   num_layers, target_vocab_to_int, target_vocab_size,\n",
    "                   batch_size, keep_prob, decoding_embedding_size):\n",
    "    \"\"\"\n",
    "    Create decoding layer\n",
    "    :param dec_input: Decoder input\n",
    "    :param encoder_state: Encoder state\n",
    "    :param target_sequence_length: The lengths of each sequence in the target batch\n",
    "    :param max_target_sequence_length: Maximum length of target sequences\n",
    "    :param rnn_size: RNN Size\n",
    "    :param num_layers: Number of layers\n",
    "    :param target_vocab_to_int: Dictionary to go from the target words to an id\n",
    "    :param target_vocab_size: Size of target vocabulary\n",
    "    :param batch_size: The size of the batch\n",
    "    :param keep_prob: Dropout keep probability\n",
    "    :param decoding_embedding_size: Decoding embedding size\n",
    "    :return: Tuple of (Training BasicDecoderOutput, Inference BasicDecoderOutput)\n",
    "    \"\"\"\n",
    "    # TODO: Implement Function\n",
    "    dec_embeddings = tf.Variable(tf.random_uniform([target_vocab_size, decoding_embedding_size], minval=-1, maxval=1))\n",
    "    dec_embed_input = tf.nn.embedding_lookup(dec_embeddings, dec_input)\n",
    "    \n",
    "    stacked_cells = tf.contrib.rnn.MultiRNNCell([tf.contrib.rnn.DropoutWrapper(\n",
    "        tf.contrib.rnn.LSTMCell(rnn_size,\n",
    "                                initializer=tf.truncated_normal_initializer(stddev=0.05, seed=777)\n",
    "                               ), output_keep_prob=keep_prob) for _ in range(num_layers)])\n",
    "    \n",
    "    output_layer = Dense(target_vocab_size, kernel_initializer = tf.truncated_normal_initializer(mean = 0.0, stddev=0.1))\n",
    "    \n",
    "    with tf.variable_scope(\"decode\"):\n",
    "        trained = decoding_layer_train(encoder_state, stacked_cells, dec_embed_input, target_sequence_length,max_target_sequence_length, output_layer, keep_prob)\n",
    "    with tf.variable_scope(\"decode\", reuse=True):\n",
    "        decoded = decoding_layer_infer(encoder_state, stacked_cells, dec_embeddings, target_vocab_to_int['<GO>'], target_vocab_to_int['<EOS>'],max_target_sequence_length, target_vocab_size, output_layer, batch_size, keep_prob)\n",
    "    return trained, decoded\n",
    "\n",
    "\n",
    "\"\"\"\n",
    "DON'T MODIFY ANYTHING IN THIS CELL THAT IS BELOW THIS LINE\n",
    "\"\"\"\n",
    "tests.test_decoding_layer(decoding_layer)"
   ]
  },
  {
   "cell_type": "markdown",
   "metadata": {},
   "source": [
    "### Build the Neural Network\n",
    "Apply the functions you implemented above to:\n",
    "\n",
    "- Encode the input using your `encoding_layer(rnn_inputs, rnn_size, num_layers, keep_prob,  source_sequence_length, source_vocab_size, encoding_embedding_size)`.\n",
    "- Process target data using your `process_decoder_input(target_data, target_vocab_to_int, batch_size)` function.\n",
    "- Decode the encoded input using your `decoding_layer(dec_input, enc_state, target_sequence_length, max_target_sentence_length, rnn_size, num_layers, target_vocab_to_int, target_vocab_size, batch_size, keep_prob, dec_embedding_size)` function."
   ]
  },
  {
   "cell_type": "code",
   "execution_count": 61,
   "metadata": {
    "collapsed": false
   },
   "outputs": [
    {
     "name": "stdout",
     "output_type": "stream",
     "text": [
      "Tests Passed\n"
     ]
    }
   ],
   "source": [
    "def seq2seq_model(input_data, target_data, keep_prob, batch_size,\n",
    "                  source_sequence_length, target_sequence_length,\n",
    "                  max_target_sentence_length,\n",
    "                  source_vocab_size, target_vocab_size,\n",
    "                  enc_embedding_size, dec_embedding_size,\n",
    "                  rnn_size, num_layers, target_vocab_to_int):\n",
    "    \"\"\"\n",
    "    Build the Sequence-to-Sequence part of the neural network\n",
    "    :param input_data: Input placeholder\n",
    "    :param target_data: Target placeholder\n",
    "    :param keep_prob: Dropout keep probability placeholder\n",
    "    :param batch_size: Batch Size\n",
    "    :param source_sequence_length: Sequence Lengths of source sequences in the batch\n",
    "    :param target_sequence_length: Sequence Lengths of target sequences in the batch\n",
    "    :param source_vocab_size: Source vocabulary size\n",
    "    :param target_vocab_size: Target vocabulary size\n",
    "    :param enc_embedding_size: Decoder embedding size\n",
    "    :param dec_embedding_size: Encoder embedding size\n",
    "    :param rnn_size: RNN Size\n",
    "    :param num_layers: Number of layers\n",
    "    :param target_vocab_to_int: Dictionary to go from the target words to an id\n",
    "    :return: Tuple of (Training BasicDecoderOutput, Inference BasicDecoderOutput)\n",
    "    \"\"\"\n",
    "    # TODO: Implement Function\n",
    "    \n",
    "    _, encoded_state = encoding_layer(input_data, rnn_size, num_layers, keep_prob,source_sequence_length, source_vocab_size, enc_embedding_size)\n",
    "    processed = process_decoder_input(target_data, target_vocab_to_int, batch_size)\n",
    "    trained, decoded = decoding_layer(processed, encoded_state, target_sequence_length, max_target_sentence_length, rnn_size, num_layers, target_vocab_to_int, target_vocab_size, batch_size, keep_prob, dec_embedding_size)\n",
    "\n",
    "    return trained, decoded\n",
    "\n",
    "\n",
    "\"\"\"\n",
    "DON'T MODIFY ANYTHING IN THIS CELL THAT IS BELOW THIS LINE\n",
    "\"\"\"\n",
    "tests.test_seq2seq_model(seq2seq_model)"
   ]
  },
  {
   "cell_type": "markdown",
   "metadata": {},
   "source": [
    "## Neural Network Training\n",
    "### Hyperparameters\n",
    "Tune the following parameters:\n",
    "\n",
    "- Set `epochs` to the number of epochs.\n",
    "- Set `batch_size` to the batch size.\n",
    "- Set `rnn_size` to the size of the RNNs.\n",
    "- Set `num_layers` to the number of layers.\n",
    "- Set `encoding_embedding_size` to the size of the embedding for the encoder.\n",
    "- Set `decoding_embedding_size` to the size of the embedding for the decoder.\n",
    "- Set `learning_rate` to the learning rate.\n",
    "- Set `keep_probability` to the Dropout keep probability\n",
    "- Set `display_step` to state how many steps between each debug output statement"
   ]
  },
  {
   "cell_type": "code",
   "execution_count": 62,
   "metadata": {
    "collapsed": true
   },
   "outputs": [],
   "source": [
    "# Number of Epochs\n",
    "epochs = 6\n",
    "# Batch Size\n",
    "batch_size = 512\n",
    "# RNN Size\n",
    "rnn_size = 200\n",
    "# Number of Layers\n",
    "num_layers = 2\n",
    "# Embedding Size\n",
    "encoding_embedding_size = 200\n",
    "decoding_embedding_size = 200\n",
    "# Learning Rate\n",
    "learning_rate = 0.01\n",
    "# Dropout Keep Probability\n",
    "keep_probability = 0.8\n",
    "display_step = 5"
   ]
  },
  {
   "cell_type": "markdown",
   "metadata": {},
   "source": [
    "### Build the Graph\n",
    "Build the graph using the neural network you implemented."
   ]
  },
  {
   "cell_type": "code",
   "execution_count": 63,
   "metadata": {
    "collapsed": false
   },
   "outputs": [],
   "source": [
    "\"\"\"\n",
    "DON'T MODIFY ANYTHING IN THIS CELL\n",
    "\"\"\"\n",
    "save_path = 'checkpoints/dev'\n",
    "(source_int_text, target_int_text), (source_vocab_to_int, target_vocab_to_int), _ = helper.load_preprocess()\n",
    "max_target_sentence_length = max([len(sentence) for sentence in source_int_text])\n",
    "\n",
    "train_graph = tf.Graph()\n",
    "with train_graph.as_default():\n",
    "    input_data, targets, lr, keep_prob, target_sequence_length, max_target_sequence_length, source_sequence_length = model_inputs()\n",
    "\n",
    "    #sequence_length = tf.placeholder_with_default(max_target_sentence_length, None, name='sequence_length')\n",
    "    input_shape = tf.shape(input_data)\n",
    "\n",
    "    train_logits, inference_logits = seq2seq_model(tf.reverse(input_data, [-1]),\n",
    "                                                   targets,\n",
    "                                                   keep_prob,\n",
    "                                                   batch_size,\n",
    "                                                   source_sequence_length,\n",
    "                                                   target_sequence_length,\n",
    "                                                   max_target_sequence_length,\n",
    "                                                   len(source_vocab_to_int),\n",
    "                                                   len(target_vocab_to_int),\n",
    "                                                   encoding_embedding_size,\n",
    "                                                   decoding_embedding_size,\n",
    "                                                   rnn_size,\n",
    "                                                   num_layers,\n",
    "                                                   target_vocab_to_int)\n",
    "\n",
    "\n",
    "    training_logits = tf.identity(train_logits.rnn_output, name='logits')\n",
    "    inference_logits = tf.identity(inference_logits.sample_id, name='predictions')\n",
    "\n",
    "    masks = tf.sequence_mask(target_sequence_length, max_target_sequence_length, dtype=tf.float32, name='masks')\n",
    "\n",
    "    with tf.name_scope(\"optimization\"):\n",
    "        # Loss function\n",
    "        cost = tf.contrib.seq2seq.sequence_loss(\n",
    "            training_logits,\n",
    "            targets,\n",
    "            masks)\n",
    "\n",
    "        # Optimizer\n",
    "        optimizer = tf.train.AdamOptimizer(lr)\n",
    "\n",
    "        # Gradient Clipping\n",
    "        gradients = optimizer.compute_gradients(cost)\n",
    "        capped_gradients = [(tf.clip_by_value(grad, -1., 1.), var) for grad, var in gradients if grad is not None]\n",
    "        train_op = optimizer.apply_gradients(capped_gradients)\n"
   ]
  },
  {
   "cell_type": "markdown",
   "metadata": {},
   "source": [
    "Batch and pad the source and target sequences"
   ]
  },
  {
   "cell_type": "code",
   "execution_count": 64,
   "metadata": {
    "collapsed": true
   },
   "outputs": [],
   "source": [
    "\"\"\"\n",
    "DON'T MODIFY ANYTHING IN THIS CELL\n",
    "\"\"\"\n",
    "def pad_sentence_batch(sentence_batch, pad_int):\n",
    "    \"\"\"Pad sentences with <PAD> so that each sentence of a batch has the same length\"\"\"\n",
    "    max_sentence = max([len(sentence) for sentence in sentence_batch])\n",
    "    return [sentence + [pad_int] * (max_sentence - len(sentence)) for sentence in sentence_batch]\n",
    "\n",
    "\n",
    "def get_batches(sources, targets, batch_size, source_pad_int, target_pad_int):\n",
    "    \"\"\"Batch targets, sources, and the lengths of their sentences together\"\"\"\n",
    "    for batch_i in range(0, len(sources)//batch_size):\n",
    "        start_i = batch_i * batch_size\n",
    "\n",
    "        # Slice the right amount for the batch\n",
    "        sources_batch = sources[start_i:start_i + batch_size]\n",
    "        targets_batch = targets[start_i:start_i + batch_size]\n",
    "\n",
    "        # Pad\n",
    "        pad_sources_batch = np.array(pad_sentence_batch(sources_batch, source_pad_int))\n",
    "        pad_targets_batch = np.array(pad_sentence_batch(targets_batch, target_pad_int))\n",
    "\n",
    "        # Need the lengths for the _lengths parameters\n",
    "        pad_targets_lengths = []\n",
    "        for target in pad_targets_batch:\n",
    "            pad_targets_lengths.append(len(target))\n",
    "\n",
    "        pad_source_lengths = []\n",
    "        for source in pad_sources_batch:\n",
    "            pad_source_lengths.append(len(source))\n",
    "\n",
    "        yield pad_sources_batch, pad_targets_batch, pad_source_lengths, pad_targets_lengths\n"
   ]
  },
  {
   "cell_type": "markdown",
   "metadata": {},
   "source": [
    "### Train\n",
    "Train the neural network on the preprocessed data. If you have a hard time getting a good loss, check the forms to see if anyone is having the same problem."
   ]
  },
  {
   "cell_type": "code",
   "execution_count": 38,
   "metadata": {
    "collapsed": false,
    "scrolled": true
   },
   "outputs": [
    {
     "name": "stdout",
     "output_type": "stream",
     "text": [
      "Epoch   0 Batch    5/269 - Train Accuracy: 0.2855, Validation Accuracy: 0.3588, Loss: 3.5539\n",
      "Epoch   0 Batch   10/269 - Train Accuracy: 0.3082, Validation Accuracy: 0.3735, Loss: 2.9025\n",
      "Epoch   0 Batch   15/269 - Train Accuracy: 0.3212, Validation Accuracy: 0.3666, Loss: 2.4559\n",
      "Epoch   0 Batch   20/269 - Train Accuracy: 0.3069, Validation Accuracy: 0.3679, Loss: 2.0445\n",
      "Epoch   0 Batch   25/269 - Train Accuracy: 0.3691, Validation Accuracy: 0.4322, Loss: 1.6511\n",
      "Epoch   0 Batch   30/269 - Train Accuracy: 0.4159, Validation Accuracy: 0.4559, Loss: 1.2654\n",
      "Epoch   0 Batch   35/269 - Train Accuracy: 0.4834, Validation Accuracy: 0.4907, Loss: 1.0807\n",
      "Epoch   0 Batch   40/269 - Train Accuracy: 0.4548, Validation Accuracy: 0.4951, Loss: 0.9875\n",
      "Epoch   0 Batch   45/269 - Train Accuracy: 0.4806, Validation Accuracy: 0.5166, Loss: 0.9042\n",
      "Epoch   0 Batch   50/269 - Train Accuracy: 0.4828, Validation Accuracy: 0.5143, Loss: 0.8466\n",
      "Epoch   0 Batch   55/269 - Train Accuracy: 0.5273, Validation Accuracy: 0.5358, Loss: 0.7674\n",
      "Epoch   0 Batch   60/269 - Train Accuracy: 0.5218, Validation Accuracy: 0.5202, Loss: 0.7046\n",
      "Epoch   0 Batch   65/269 - Train Accuracy: 0.5319, Validation Accuracy: 0.5424, Loss: 0.6900\n",
      "Epoch   0 Batch   70/269 - Train Accuracy: 0.5556, Validation Accuracy: 0.5562, Loss: 0.6792\n",
      "Epoch   0 Batch   75/269 - Train Accuracy: 0.5334, Validation Accuracy: 0.5426, Loss: 0.6397\n",
      "Epoch   0 Batch   80/269 - Train Accuracy: 0.6081, Validation Accuracy: 0.6049, Loss: 0.6298\n",
      "Epoch   0 Batch   85/269 - Train Accuracy: 0.5991, Validation Accuracy: 0.5961, Loss: 0.6236\n",
      "Epoch   0 Batch   90/269 - Train Accuracy: 0.5817, Validation Accuracy: 0.6301, Loss: 0.6393\n",
      "Epoch   0 Batch   95/269 - Train Accuracy: 0.6259, Validation Accuracy: 0.6318, Loss: 0.5821\n",
      "Epoch   0 Batch  100/269 - Train Accuracy: 0.6489, Validation Accuracy: 0.6415, Loss: 0.5582\n",
      "Epoch   0 Batch  105/269 - Train Accuracy: 0.6152, Validation Accuracy: 0.6376, Loss: 0.5620\n",
      "Epoch   0 Batch  110/269 - Train Accuracy: 0.6525, Validation Accuracy: 0.6596, Loss: 0.5291\n",
      "Epoch   0 Batch  115/269 - Train Accuracy: 0.6495, Validation Accuracy: 0.6742, Loss: 0.5416\n",
      "Epoch   0 Batch  120/269 - Train Accuracy: 0.6653, Validation Accuracy: 0.6889, Loss: 0.5226\n",
      "Epoch   0 Batch  125/269 - Train Accuracy: 0.6815, Validation Accuracy: 0.6883, Loss: 0.4905\n",
      "Epoch   0 Batch  130/269 - Train Accuracy: 0.6498, Validation Accuracy: 0.6801, Loss: 0.4886\n",
      "Epoch   0 Batch  135/269 - Train Accuracy: 0.6750, Validation Accuracy: 0.6949, Loss: 0.5285\n",
      "Epoch   0 Batch  140/269 - Train Accuracy: 0.7017, Validation Accuracy: 0.7095, Loss: 0.4713\n",
      "Epoch   0 Batch  145/269 - Train Accuracy: 0.7054, Validation Accuracy: 0.7195, Loss: 0.4260\n",
      "Epoch   0 Batch  150/269 - Train Accuracy: 0.7262, Validation Accuracy: 0.7175, Loss: 0.4126\n",
      "Epoch   0 Batch  155/269 - Train Accuracy: 0.7354, Validation Accuracy: 0.7133, Loss: 0.3761\n",
      "Epoch   0 Batch  160/269 - Train Accuracy: 0.7466, Validation Accuracy: 0.7505, Loss: 0.3652\n",
      "Epoch   0 Batch  165/269 - Train Accuracy: 0.7401, Validation Accuracy: 0.7346, Loss: 0.3700\n",
      "Epoch   0 Batch  170/269 - Train Accuracy: 0.7594, Validation Accuracy: 0.7696, Loss: 0.3430\n",
      "Epoch   0 Batch  175/269 - Train Accuracy: 0.7606, Validation Accuracy: 0.7796, Loss: 0.3521\n",
      "Epoch   0 Batch  180/269 - Train Accuracy: 0.7905, Validation Accuracy: 0.7931, Loss: 0.3213\n",
      "Epoch   0 Batch  185/269 - Train Accuracy: 0.8191, Validation Accuracy: 0.8019, Loss: 0.3061\n",
      "Epoch   0 Batch  190/269 - Train Accuracy: 0.8121, Validation Accuracy: 0.8165, Loss: 0.2900\n",
      "Epoch   0 Batch  195/269 - Train Accuracy: 0.7972, Validation Accuracy: 0.8121, Loss: 0.2836\n",
      "Epoch   0 Batch  200/269 - Train Accuracy: 0.8136, Validation Accuracy: 0.8234, Loss: 0.2893\n",
      "Epoch   0 Batch  205/269 - Train Accuracy: 0.8287, Validation Accuracy: 0.8256, Loss: 0.2604\n",
      "Epoch   0 Batch  210/269 - Train Accuracy: 0.8264, Validation Accuracy: 0.8318, Loss: 0.2489\n",
      "Epoch   0 Batch  215/269 - Train Accuracy: 0.8493, Validation Accuracy: 0.8469, Loss: 0.2246\n",
      "Epoch   0 Batch  220/269 - Train Accuracy: 0.8458, Validation Accuracy: 0.8408, Loss: 0.2153\n",
      "Epoch   0 Batch  225/269 - Train Accuracy: 0.8480, Validation Accuracy: 0.8553, Loss: 0.2234\n",
      "Epoch   0 Batch  230/269 - Train Accuracy: 0.8687, Validation Accuracy: 0.8631, Loss: 0.2115\n",
      "Epoch   0 Batch  235/269 - Train Accuracy: 0.8810, Validation Accuracy: 0.8565, Loss: 0.1970\n",
      "Epoch   0 Batch  240/269 - Train Accuracy: 0.8770, Validation Accuracy: 0.8634, Loss: 0.1773\n",
      "Epoch   0 Batch  245/269 - Train Accuracy: 0.8429, Validation Accuracy: 0.8722, Loss: 0.2040\n",
      "Epoch   0 Batch  250/269 - Train Accuracy: 0.8843, Validation Accuracy: 0.8699, Loss: 0.1816\n",
      "Epoch   0 Batch  255/269 - Train Accuracy: 0.8744, Validation Accuracy: 0.8729, Loss: 0.1634\n",
      "Epoch   0 Batch  260/269 - Train Accuracy: 0.8755, Validation Accuracy: 0.8846, Loss: 0.1644\n",
      "Epoch   0 Batch  265/269 - Train Accuracy: 0.8913, Validation Accuracy: 0.8914, Loss: 0.1540\n",
      "Epoch   1 Batch    5/269 - Train Accuracy: 0.8803, Validation Accuracy: 0.8912, Loss: 0.1461\n",
      "Epoch   1 Batch   10/269 - Train Accuracy: 0.9035, Validation Accuracy: 0.8950, Loss: 0.1291\n",
      "Epoch   1 Batch   15/269 - Train Accuracy: 0.9089, Validation Accuracy: 0.8880, Loss: 0.1145\n",
      "Epoch   1 Batch   20/269 - Train Accuracy: 0.9014, Validation Accuracy: 0.8971, Loss: 0.1221\n",
      "Epoch   1 Batch   25/269 - Train Accuracy: 0.9081, Validation Accuracy: 0.9073, Loss: 0.1277\n",
      "Epoch   1 Batch   30/269 - Train Accuracy: 0.9256, Validation Accuracy: 0.9078, Loss: 0.1099\n",
      "Epoch   1 Batch   35/269 - Train Accuracy: 0.9148, Validation Accuracy: 0.9077, Loss: 0.1178\n",
      "Epoch   1 Batch   40/269 - Train Accuracy: 0.9082, Validation Accuracy: 0.9139, Loss: 0.1096\n",
      "Epoch   1 Batch   45/269 - Train Accuracy: 0.9071, Validation Accuracy: 0.9175, Loss: 0.1011\n",
      "Epoch   1 Batch   50/269 - Train Accuracy: 0.9082, Validation Accuracy: 0.9137, Loss: 0.1060\n",
      "Epoch   1 Batch   55/269 - Train Accuracy: 0.9341, Validation Accuracy: 0.9143, Loss: 0.0929\n",
      "Epoch   1 Batch   60/269 - Train Accuracy: 0.9213, Validation Accuracy: 0.9195, Loss: 0.0852\n",
      "Epoch   1 Batch   65/269 - Train Accuracy: 0.9297, Validation Accuracy: 0.9244, Loss: 0.0788\n",
      "Epoch   1 Batch   70/269 - Train Accuracy: 0.9340, Validation Accuracy: 0.9229, Loss: 0.0807\n",
      "Epoch   1 Batch   75/269 - Train Accuracy: 0.9313, Validation Accuracy: 0.9309, Loss: 0.0801\n",
      "Epoch   1 Batch   80/269 - Train Accuracy: 0.9296, Validation Accuracy: 0.9319, Loss: 0.0796\n",
      "Epoch   1 Batch   85/269 - Train Accuracy: 0.9305, Validation Accuracy: 0.9257, Loss: 0.0823\n",
      "Epoch   1 Batch   90/269 - Train Accuracy: 0.9325, Validation Accuracy: 0.9273, Loss: 0.0761\n",
      "Epoch   1 Batch   95/269 - Train Accuracy: 0.9269, Validation Accuracy: 0.9305, Loss: 0.0739\n",
      "Epoch   1 Batch  100/269 - Train Accuracy: 0.9486, Validation Accuracy: 0.9303, Loss: 0.0700\n",
      "Epoch   1 Batch  105/269 - Train Accuracy: 0.9349, Validation Accuracy: 0.9362, Loss: 0.0723\n",
      "Epoch   1 Batch  110/269 - Train Accuracy: 0.9399, Validation Accuracy: 0.9298, Loss: 0.0597\n",
      "Epoch   1 Batch  115/269 - Train Accuracy: 0.9303, Validation Accuracy: 0.9355, Loss: 0.0681\n",
      "Epoch   1 Batch  120/269 - Train Accuracy: 0.9372, Validation Accuracy: 0.9341, Loss: 0.0692\n",
      "Epoch   1 Batch  125/269 - Train Accuracy: 0.9451, Validation Accuracy: 0.9326, Loss: 0.0574\n",
      "Epoch   1 Batch  130/269 - Train Accuracy: 0.9386, Validation Accuracy: 0.9360, Loss: 0.0627\n",
      "Epoch   1 Batch  135/269 - Train Accuracy: 0.9374, Validation Accuracy: 0.9345, Loss: 0.0594\n",
      "Epoch   1 Batch  140/269 - Train Accuracy: 0.9289, Validation Accuracy: 0.9395, Loss: 0.0667\n",
      "Epoch   1 Batch  145/269 - Train Accuracy: 0.9541, Validation Accuracy: 0.9349, Loss: 0.0528\n",
      "Epoch   1 Batch  150/269 - Train Accuracy: 0.9352, Validation Accuracy: 0.9419, Loss: 0.0599\n",
      "Epoch   1 Batch  155/269 - Train Accuracy: 0.9381, Validation Accuracy: 0.9457, Loss: 0.0557\n",
      "Epoch   1 Batch  160/269 - Train Accuracy: 0.9387, Validation Accuracy: 0.9477, Loss: 0.0521\n",
      "Epoch   1 Batch  165/269 - Train Accuracy: 0.9511, Validation Accuracy: 0.9377, Loss: 0.0484\n",
      "Epoch   1 Batch  170/269 - Train Accuracy: 0.9446, Validation Accuracy: 0.9525, Loss: 0.0505\n",
      "Epoch   1 Batch  175/269 - Train Accuracy: 0.9361, Validation Accuracy: 0.9457, Loss: 0.0659\n",
      "Epoch   1 Batch  180/269 - Train Accuracy: 0.9574, Validation Accuracy: 0.9545, Loss: 0.0453\n",
      "Epoch   1 Batch  185/269 - Train Accuracy: 0.9575, Validation Accuracy: 0.9533, Loss: 0.0494\n",
      "Epoch   1 Batch  190/269 - Train Accuracy: 0.9512, Validation Accuracy: 0.9569, Loss: 0.0469\n",
      "Epoch   1 Batch  195/269 - Train Accuracy: 0.9528, Validation Accuracy: 0.9491, Loss: 0.0477\n",
      "Epoch   1 Batch  200/269 - Train Accuracy: 0.9544, Validation Accuracy: 0.9378, Loss: 0.0476\n",
      "Epoch   1 Batch  205/269 - Train Accuracy: 0.9556, Validation Accuracy: 0.9460, Loss: 0.0464\n",
      "Epoch   1 Batch  210/269 - Train Accuracy: 0.9504, Validation Accuracy: 0.9481, Loss: 0.0426\n",
      "Epoch   1 Batch  215/269 - Train Accuracy: 0.9444, Validation Accuracy: 0.9480, Loss: 0.0438\n",
      "Epoch   1 Batch  220/269 - Train Accuracy: 0.9524, Validation Accuracy: 0.9503, Loss: 0.0443\n",
      "Epoch   1 Batch  225/269 - Train Accuracy: 0.9451, Validation Accuracy: 0.9587, Loss: 0.0458\n",
      "Epoch   1 Batch  230/269 - Train Accuracy: 0.9606, Validation Accuracy: 0.9533, Loss: 0.0431\n",
      "Epoch   1 Batch  235/269 - Train Accuracy: 0.9685, Validation Accuracy: 0.9530, Loss: 0.0395\n",
      "Epoch   1 Batch  240/269 - Train Accuracy: 0.9549, Validation Accuracy: 0.9562, Loss: 0.0399\n",
      "Epoch   1 Batch  245/269 - Train Accuracy: 0.9439, Validation Accuracy: 0.9466, Loss: 0.0448\n",
      "Epoch   1 Batch  250/269 - Train Accuracy: 0.9528, Validation Accuracy: 0.9530, Loss: 0.0409\n",
      "Epoch   1 Batch  255/269 - Train Accuracy: 0.9509, Validation Accuracy: 0.9506, Loss: 0.0434\n",
      "Epoch   1 Batch  260/269 - Train Accuracy: 0.9534, Validation Accuracy: 0.9615, Loss: 0.0426\n",
      "Epoch   1 Batch  265/269 - Train Accuracy: 0.9439, Validation Accuracy: 0.9519, Loss: 0.0451\n",
      "Epoch   2 Batch    5/269 - Train Accuracy: 0.9612, Validation Accuracy: 0.9542, Loss: 0.0418\n",
      "Epoch   2 Batch   10/269 - Train Accuracy: 0.9616, Validation Accuracy: 0.9532, Loss: 0.0383\n",
      "Epoch   2 Batch   15/269 - Train Accuracy: 0.9671, Validation Accuracy: 0.9511, Loss: 0.0317\n",
      "Epoch   2 Batch   20/269 - Train Accuracy: 0.9530, Validation Accuracy: 0.9600, Loss: 0.0415\n",
      "Epoch   2 Batch   25/269 - Train Accuracy: 0.9581, Validation Accuracy: 0.9539, Loss: 0.0451\n",
      "Epoch   2 Batch   30/269 - Train Accuracy: 0.9600, Validation Accuracy: 0.9519, Loss: 0.0387\n",
      "Epoch   2 Batch   35/269 - Train Accuracy: 0.9555, Validation Accuracy: 0.9482, Loss: 0.0503\n",
      "Epoch   2 Batch   40/269 - Train Accuracy: 0.9503, Validation Accuracy: 0.9537, Loss: 0.0403\n",
      "Epoch   2 Batch   45/269 - Train Accuracy: 0.9562, Validation Accuracy: 0.9694, Loss: 0.0385\n",
      "Epoch   2 Batch   50/269 - Train Accuracy: 0.9447, Validation Accuracy: 0.9566, Loss: 0.0393\n",
      "Epoch   2 Batch   55/269 - Train Accuracy: 0.9598, Validation Accuracy: 0.9551, Loss: 0.0352\n",
      "Epoch   2 Batch   60/269 - Train Accuracy: 0.9624, Validation Accuracy: 0.9648, Loss: 0.0329\n",
      "Epoch   2 Batch   65/269 - Train Accuracy: 0.9696, Validation Accuracy: 0.9680, Loss: 0.0301\n",
      "Epoch   2 Batch   70/269 - Train Accuracy: 0.9585, Validation Accuracy: 0.9578, Loss: 0.0381\n",
      "Epoch   2 Batch   75/269 - Train Accuracy: 0.9630, Validation Accuracy: 0.9627, Loss: 0.0360\n",
      "Epoch   2 Batch   80/269 - Train Accuracy: 0.9682, Validation Accuracy: 0.9682, Loss: 0.0344\n",
      "Epoch   2 Batch   85/269 - Train Accuracy: 0.9596, Validation Accuracy: 0.9650, Loss: 0.0354\n",
      "Epoch   2 Batch   90/269 - Train Accuracy: 0.9657, Validation Accuracy: 0.9618, Loss: 0.0383\n",
      "Epoch   2 Batch   95/269 - Train Accuracy: 0.9648, Validation Accuracy: 0.9680, Loss: 0.0333\n",
      "Epoch   2 Batch  100/269 - Train Accuracy: 0.9714, Validation Accuracy: 0.9656, Loss: 0.0344\n",
      "Epoch   2 Batch  105/269 - Train Accuracy: 0.9627, Validation Accuracy: 0.9600, Loss: 0.0322\n",
      "Epoch   2 Batch  110/269 - Train Accuracy: 0.9609, Validation Accuracy: 0.9581, Loss: 0.0320\n",
      "Epoch   2 Batch  115/269 - Train Accuracy: 0.9671, Validation Accuracy: 0.9555, Loss: 0.0361\n",
      "Epoch   2 Batch  120/269 - Train Accuracy: 0.9586, Validation Accuracy: 0.9651, Loss: 0.0353\n",
      "Epoch   2 Batch  125/269 - Train Accuracy: 0.9708, Validation Accuracy: 0.9645, Loss: 0.0273\n",
      "Epoch   2 Batch  130/269 - Train Accuracy: 0.9675, Validation Accuracy: 0.9667, Loss: 0.0312\n",
      "Epoch   2 Batch  135/269 - Train Accuracy: 0.9631, Validation Accuracy: 0.9578, Loss: 0.0300\n",
      "Epoch   2 Batch  140/269 - Train Accuracy: 0.9656, Validation Accuracy: 0.9714, Loss: 0.0363\n",
      "Epoch   2 Batch  145/269 - Train Accuracy: 0.9771, Validation Accuracy: 0.9630, Loss: 0.0276\n",
      "Epoch   2 Batch  150/269 - Train Accuracy: 0.9659, Validation Accuracy: 0.9697, Loss: 0.0328\n",
      "Epoch   2 Batch  155/269 - Train Accuracy: 0.9652, Validation Accuracy: 0.9728, Loss: 0.0310\n",
      "Epoch   2 Batch  160/269 - Train Accuracy: 0.9661, Validation Accuracy: 0.9714, Loss: 0.0289\n",
      "Epoch   2 Batch  165/269 - Train Accuracy: 0.9705, Validation Accuracy: 0.9617, Loss: 0.0307\n",
      "Epoch   2 Batch  170/269 - Train Accuracy: 0.9669, Validation Accuracy: 0.9773, Loss: 0.0312\n",
      "Epoch   2 Batch  175/269 - Train Accuracy: 0.9657, Validation Accuracy: 0.9727, Loss: 0.0432\n",
      "Epoch   2 Batch  180/269 - Train Accuracy: 0.9726, Validation Accuracy: 0.9703, Loss: 0.0269\n",
      "Epoch   2 Batch  185/269 - Train Accuracy: 0.9748, Validation Accuracy: 0.9680, Loss: 0.0261\n",
      "Epoch   2 Batch  190/269 - Train Accuracy: 0.9651, Validation Accuracy: 0.9672, Loss: 0.0283\n",
      "Epoch   2 Batch  195/269 - Train Accuracy: 0.9752, Validation Accuracy: 0.9695, Loss: 0.0251\n",
      "Epoch   2 Batch  200/269 - Train Accuracy: 0.9776, Validation Accuracy: 0.9655, Loss: 0.0265\n",
      "Epoch   2 Batch  205/269 - Train Accuracy: 0.9723, Validation Accuracy: 0.9651, Loss: 0.0293\n",
      "Epoch   2 Batch  210/269 - Train Accuracy: 0.9667, Validation Accuracy: 0.9688, Loss: 0.0271\n",
      "Epoch   2 Batch  215/269 - Train Accuracy: 0.9589, Validation Accuracy: 0.9608, Loss: 0.0307\n",
      "Epoch   2 Batch  220/269 - Train Accuracy: 0.9615, Validation Accuracy: 0.9676, Loss: 0.0281\n",
      "Epoch   2 Batch  225/269 - Train Accuracy: 0.9602, Validation Accuracy: 0.9661, Loss: 0.0301\n",
      "Epoch   2 Batch  230/269 - Train Accuracy: 0.9584, Validation Accuracy: 0.9649, Loss: 0.0292\n",
      "Epoch   2 Batch  235/269 - Train Accuracy: 0.9856, Validation Accuracy: 0.9641, Loss: 0.0230\n",
      "Epoch   2 Batch  240/269 - Train Accuracy: 0.9630, Validation Accuracy: 0.9610, Loss: 0.0296\n",
      "Epoch   2 Batch  245/269 - Train Accuracy: 0.9686, Validation Accuracy: 0.9695, Loss: 0.0286\n",
      "Epoch   2 Batch  250/269 - Train Accuracy: 0.9626, Validation Accuracy: 0.9667, Loss: 0.0288\n",
      "Epoch   2 Batch  255/269 - Train Accuracy: 0.9629, Validation Accuracy: 0.9689, Loss: 0.0334\n",
      "Epoch   2 Batch  260/269 - Train Accuracy: 0.9695, Validation Accuracy: 0.9608, Loss: 0.0281\n",
      "Epoch   2 Batch  265/269 - Train Accuracy: 0.9622, Validation Accuracy: 0.9703, Loss: 0.0274\n",
      "Epoch   3 Batch    5/269 - Train Accuracy: 0.9729, Validation Accuracy: 0.9648, Loss: 0.0284\n",
      "Epoch   3 Batch   10/269 - Train Accuracy: 0.9705, Validation Accuracy: 0.9658, Loss: 0.0244\n",
      "Epoch   3 Batch   15/269 - Train Accuracy: 0.9828, Validation Accuracy: 0.9588, Loss: 0.0174\n",
      "Epoch   3 Batch   20/269 - Train Accuracy: 0.9678, Validation Accuracy: 0.9610, Loss: 0.0258\n",
      "Epoch   3 Batch   25/269 - Train Accuracy: 0.9736, Validation Accuracy: 0.9695, Loss: 0.0293\n",
      "Epoch   3 Batch   30/269 - Train Accuracy: 0.9721, Validation Accuracy: 0.9688, Loss: 0.0282\n",
      "Epoch   3 Batch   35/269 - Train Accuracy: 0.9692, Validation Accuracy: 0.9725, Loss: 0.0336\n",
      "Epoch   3 Batch   40/269 - Train Accuracy: 0.9632, Validation Accuracy: 0.9634, Loss: 0.0285\n",
      "Epoch   3 Batch   45/269 - Train Accuracy: 0.9684, Validation Accuracy: 0.9683, Loss: 0.0269\n",
      "Epoch   3 Batch   50/269 - Train Accuracy: 0.9576, Validation Accuracy: 0.9644, Loss: 0.0274\n",
      "Epoch   3 Batch   55/269 - Train Accuracy: 0.9640, Validation Accuracy: 0.9580, Loss: 0.0276\n",
      "Epoch   3 Batch   60/269 - Train Accuracy: 0.9755, Validation Accuracy: 0.9703, Loss: 0.0256\n",
      "Epoch   3 Batch   65/269 - Train Accuracy: 0.9678, Validation Accuracy: 0.9680, Loss: 0.0244\n",
      "Epoch   3 Batch   70/269 - Train Accuracy: 0.9702, Validation Accuracy: 0.9672, Loss: 0.0288\n",
      "Epoch   3 Batch   75/269 - Train Accuracy: 0.9674, Validation Accuracy: 0.9680, Loss: 0.0266\n",
      "Epoch   3 Batch   80/269 - Train Accuracy: 0.9683, Validation Accuracy: 0.9742, Loss: 0.0225\n",
      "Epoch   3 Batch   85/269 - Train Accuracy: 0.9621, Validation Accuracy: 0.9679, Loss: 0.0245\n",
      "Epoch   3 Batch   90/269 - Train Accuracy: 0.9737, Validation Accuracy: 0.9721, Loss: 0.0238\n",
      "Epoch   3 Batch   95/269 - Train Accuracy: 0.9783, Validation Accuracy: 0.9743, Loss: 0.0234\n",
      "Epoch   3 Batch  100/269 - Train Accuracy: 0.9676, Validation Accuracy: 0.9723, Loss: 0.0274\n",
      "Epoch   3 Batch  105/269 - Train Accuracy: 0.9738, Validation Accuracy: 0.9716, Loss: 0.0233\n",
      "Epoch   3 Batch  110/269 - Train Accuracy: 0.9746, Validation Accuracy: 0.9670, Loss: 0.0226\n",
      "Epoch   3 Batch  115/269 - Train Accuracy: 0.9622, Validation Accuracy: 0.9683, Loss: 0.0272\n",
      "Epoch   3 Batch  120/269 - Train Accuracy: 0.9660, Validation Accuracy: 0.9672, Loss: 0.0263\n",
      "Epoch   3 Batch  125/269 - Train Accuracy: 0.9705, Validation Accuracy: 0.9676, Loss: 0.0239\n",
      "Epoch   3 Batch  130/269 - Train Accuracy: 0.9759, Validation Accuracy: 0.9675, Loss: 0.0268\n",
      "Epoch   3 Batch  135/269 - Train Accuracy: 0.9787, Validation Accuracy: 0.9753, Loss: 0.0230\n",
      "Epoch   3 Batch  140/269 - Train Accuracy: 0.9677, Validation Accuracy: 0.9688, Loss: 0.0278\n",
      "Epoch   3 Batch  145/269 - Train Accuracy: 0.9824, Validation Accuracy: 0.9674, Loss: 0.0202\n",
      "Epoch   3 Batch  150/269 - Train Accuracy: 0.9706, Validation Accuracy: 0.9654, Loss: 0.0309\n",
      "Epoch   3 Batch  155/269 - Train Accuracy: 0.9749, Validation Accuracy: 0.9664, Loss: 0.0250\n",
      "Epoch   3 Batch  160/269 - Train Accuracy: 0.9760, Validation Accuracy: 0.9729, Loss: 0.0234\n",
      "Epoch   3 Batch  165/269 - Train Accuracy: 0.9774, Validation Accuracy: 0.9671, Loss: 0.0240\n",
      "Epoch   3 Batch  170/269 - Train Accuracy: 0.9661, Validation Accuracy: 0.9676, Loss: 0.0256\n",
      "Epoch   3 Batch  175/269 - Train Accuracy: 0.9739, Validation Accuracy: 0.9741, Loss: 0.0336\n",
      "Epoch   3 Batch  180/269 - Train Accuracy: 0.9771, Validation Accuracy: 0.9711, Loss: 0.0239\n",
      "Epoch   3 Batch  185/269 - Train Accuracy: 0.9786, Validation Accuracy: 0.9733, Loss: 0.0223\n",
      "Epoch   3 Batch  190/269 - Train Accuracy: 0.9679, Validation Accuracy: 0.9680, Loss: 0.0236\n",
      "Epoch   3 Batch  195/269 - Train Accuracy: 0.9778, Validation Accuracy: 0.9629, Loss: 0.0221\n",
      "Epoch   3 Batch  200/269 - Train Accuracy: 0.9777, Validation Accuracy: 0.9670, Loss: 0.0218\n",
      "Epoch   3 Batch  205/269 - Train Accuracy: 0.9832, Validation Accuracy: 0.9701, Loss: 0.0210\n",
      "Epoch   3 Batch  210/269 - Train Accuracy: 0.9727, Validation Accuracy: 0.9687, Loss: 0.0203\n",
      "Epoch   3 Batch  215/269 - Train Accuracy: 0.9699, Validation Accuracy: 0.9665, Loss: 0.0234\n",
      "Epoch   3 Batch  220/269 - Train Accuracy: 0.9644, Validation Accuracy: 0.9597, Loss: 0.0258\n",
      "Epoch   3 Batch  225/269 - Train Accuracy: 0.9718, Validation Accuracy: 0.9748, Loss: 0.0252\n",
      "Epoch   3 Batch  230/269 - Train Accuracy: 0.9772, Validation Accuracy: 0.9707, Loss: 0.0224\n",
      "Epoch   3 Batch  235/269 - Train Accuracy: 0.9909, Validation Accuracy: 0.9744, Loss: 0.0154\n",
      "Epoch   3 Batch  240/269 - Train Accuracy: 0.9754, Validation Accuracy: 0.9719, Loss: 0.0220\n",
      "Epoch   3 Batch  245/269 - Train Accuracy: 0.9699, Validation Accuracy: 0.9702, Loss: 0.0254\n",
      "Epoch   3 Batch  250/269 - Train Accuracy: 0.9650, Validation Accuracy: 0.9730, Loss: 0.0258\n",
      "Epoch   3 Batch  255/269 - Train Accuracy: 0.9713, Validation Accuracy: 0.9726, Loss: 0.0247\n",
      "Epoch   3 Batch  260/269 - Train Accuracy: 0.9757, Validation Accuracy: 0.9735, Loss: 0.0219\n",
      "Epoch   3 Batch  265/269 - Train Accuracy: 0.9682, Validation Accuracy: 0.9797, Loss: 0.0213\n",
      "Epoch   4 Batch    5/269 - Train Accuracy: 0.9766, Validation Accuracy: 0.9729, Loss: 0.0239\n",
      "Epoch   4 Batch   10/269 - Train Accuracy: 0.9772, Validation Accuracy: 0.9716, Loss: 0.0201\n",
      "Epoch   4 Batch   15/269 - Train Accuracy: 0.9848, Validation Accuracy: 0.9727, Loss: 0.0160\n",
      "Epoch   4 Batch   20/269 - Train Accuracy: 0.9694, Validation Accuracy: 0.9669, Loss: 0.0206\n",
      "Epoch   4 Batch   25/269 - Train Accuracy: 0.9787, Validation Accuracy: 0.9782, Loss: 0.0232\n",
      "Epoch   4 Batch   30/269 - Train Accuracy: 0.9727, Validation Accuracy: 0.9751, Loss: 0.0219\n",
      "Epoch   4 Batch   35/269 - Train Accuracy: 0.9795, Validation Accuracy: 0.9675, Loss: 0.0293\n",
      "Epoch   4 Batch   40/269 - Train Accuracy: 0.9759, Validation Accuracy: 0.9676, Loss: 0.0227\n",
      "Epoch   4 Batch   45/269 - Train Accuracy: 0.9702, Validation Accuracy: 0.9806, Loss: 0.0254\n",
      "Epoch   4 Batch   50/269 - Train Accuracy: 0.9612, Validation Accuracy: 0.9712, Loss: 0.0278\n",
      "Epoch   4 Batch   55/269 - Train Accuracy: 0.9752, Validation Accuracy: 0.9721, Loss: 0.0230\n",
      "Epoch   4 Batch   60/269 - Train Accuracy: 0.9719, Validation Accuracy: 0.9762, Loss: 0.0202\n",
      "Epoch   4 Batch   65/269 - Train Accuracy: 0.9771, Validation Accuracy: 0.9714, Loss: 0.0214\n",
      "Epoch   4 Batch   70/269 - Train Accuracy: 0.9794, Validation Accuracy: 0.9678, Loss: 0.0222\n",
      "Epoch   4 Batch   75/269 - Train Accuracy: 0.9677, Validation Accuracy: 0.9680, Loss: 0.0241\n",
      "Epoch   4 Batch   80/269 - Train Accuracy: 0.9767, Validation Accuracy: 0.9688, Loss: 0.0211\n",
      "Epoch   4 Batch   85/269 - Train Accuracy: 0.9697, Validation Accuracy: 0.9697, Loss: 0.0210\n",
      "Epoch   4 Batch   90/269 - Train Accuracy: 0.9724, Validation Accuracy: 0.9734, Loss: 0.0201\n",
      "Epoch   4 Batch   95/269 - Train Accuracy: 0.9837, Validation Accuracy: 0.9692, Loss: 0.0211\n",
      "Epoch   4 Batch  100/269 - Train Accuracy: 0.9714, Validation Accuracy: 0.9736, Loss: 0.0236\n",
      "Epoch   4 Batch  105/269 - Train Accuracy: 0.9762, Validation Accuracy: 0.9712, Loss: 0.0207\n",
      "Epoch   4 Batch  110/269 - Train Accuracy: 0.9819, Validation Accuracy: 0.9723, Loss: 0.0182\n",
      "Epoch   4 Batch  115/269 - Train Accuracy: 0.9789, Validation Accuracy: 0.9727, Loss: 0.0229\n",
      "Epoch   4 Batch  120/269 - Train Accuracy: 0.9644, Validation Accuracy: 0.9709, Loss: 0.0222\n",
      "Epoch   4 Batch  125/269 - Train Accuracy: 0.9753, Validation Accuracy: 0.9770, Loss: 0.0200\n",
      "Epoch   4 Batch  130/269 - Train Accuracy: 0.9783, Validation Accuracy: 0.9665, Loss: 0.0222\n",
      "Epoch   4 Batch  135/269 - Train Accuracy: 0.9799, Validation Accuracy: 0.9711, Loss: 0.0180\n",
      "Epoch   4 Batch  140/269 - Train Accuracy: 0.9734, Validation Accuracy: 0.9779, Loss: 0.0225\n",
      "Epoch   4 Batch  145/269 - Train Accuracy: 0.9856, Validation Accuracy: 0.9702, Loss: 0.0172\n",
      "Epoch   4 Batch  150/269 - Train Accuracy: 0.9736, Validation Accuracy: 0.9661, Loss: 0.0268\n",
      "Epoch   4 Batch  155/269 - Train Accuracy: 0.9731, Validation Accuracy: 0.9712, Loss: 0.0210\n",
      "Epoch   4 Batch  160/269 - Train Accuracy: 0.9788, Validation Accuracy: 0.9724, Loss: 0.0197\n",
      "Epoch   4 Batch  165/269 - Train Accuracy: 0.9801, Validation Accuracy: 0.9704, Loss: 0.0189\n",
      "Epoch   4 Batch  170/269 - Train Accuracy: 0.9757, Validation Accuracy: 0.9697, Loss: 0.0211\n",
      "Epoch   4 Batch  175/269 - Train Accuracy: 0.9727, Validation Accuracy: 0.9696, Loss: 0.0283\n",
      "Epoch   4 Batch  180/269 - Train Accuracy: 0.9780, Validation Accuracy: 0.9728, Loss: 0.0174\n",
      "Epoch   4 Batch  185/269 - Train Accuracy: 0.9777, Validation Accuracy: 0.9739, Loss: 0.0209\n",
      "Epoch   4 Batch  190/269 - Train Accuracy: 0.9727, Validation Accuracy: 0.9775, Loss: 0.0207\n",
      "Epoch   4 Batch  195/269 - Train Accuracy: 0.9781, Validation Accuracy: 0.9691, Loss: 0.0170\n",
      "Epoch   4 Batch  200/269 - Train Accuracy: 0.9816, Validation Accuracy: 0.9743, Loss: 0.0204\n",
      "Epoch   4 Batch  205/269 - Train Accuracy: 0.9864, Validation Accuracy: 0.9763, Loss: 0.0173\n",
      "Epoch   4 Batch  210/269 - Train Accuracy: 0.9785, Validation Accuracy: 0.9747, Loss: 0.0181\n",
      "Epoch   4 Batch  215/269 - Train Accuracy: 0.9664, Validation Accuracy: 0.9729, Loss: 0.0207\n",
      "Epoch   4 Batch  220/269 - Train Accuracy: 0.9650, Validation Accuracy: 0.9698, Loss: 0.0210\n",
      "Epoch   4 Batch  225/269 - Train Accuracy: 0.9811, Validation Accuracy: 0.9625, Loss: 0.0192\n",
      "Epoch   4 Batch  230/269 - Train Accuracy: 0.9800, Validation Accuracy: 0.9633, Loss: 0.0193\n",
      "Epoch   4 Batch  235/269 - Train Accuracy: 0.9927, Validation Accuracy: 0.9646, Loss: 0.0131\n",
      "Epoch   4 Batch  240/269 - Train Accuracy: 0.9763, Validation Accuracy: 0.9726, Loss: 0.0196\n",
      "Epoch   4 Batch  245/269 - Train Accuracy: 0.9718, Validation Accuracy: 0.9704, Loss: 0.0211\n",
      "Epoch   4 Batch  250/269 - Train Accuracy: 0.9684, Validation Accuracy: 0.9751, Loss: 0.0215\n",
      "Epoch   4 Batch  255/269 - Train Accuracy: 0.9751, Validation Accuracy: 0.9689, Loss: 0.0211\n",
      "Epoch   4 Batch  260/269 - Train Accuracy: 0.9765, Validation Accuracy: 0.9693, Loss: 0.0177\n",
      "Epoch   4 Batch  265/269 - Train Accuracy: 0.9732, Validation Accuracy: 0.9682, Loss: 0.0227\n",
      "Epoch   5 Batch    5/269 - Train Accuracy: 0.9781, Validation Accuracy: 0.9771, Loss: 0.0214\n",
      "Epoch   5 Batch   10/269 - Train Accuracy: 0.9822, Validation Accuracy: 0.9772, Loss: 0.0183\n",
      "Epoch   5 Batch   15/269 - Train Accuracy: 0.9846, Validation Accuracy: 0.9684, Loss: 0.0150\n",
      "Epoch   5 Batch   20/269 - Train Accuracy: 0.9764, Validation Accuracy: 0.9704, Loss: 0.0215\n",
      "Epoch   5 Batch   25/269 - Train Accuracy: 0.9779, Validation Accuracy: 0.9773, Loss: 0.0241\n",
      "Epoch   5 Batch   30/269 - Train Accuracy: 0.9723, Validation Accuracy: 0.9736, Loss: 0.0222\n",
      "Epoch   5 Batch   35/269 - Train Accuracy: 0.9805, Validation Accuracy: 0.9741, Loss: 0.0300\n",
      "Epoch   5 Batch   40/269 - Train Accuracy: 0.9750, Validation Accuracy: 0.9753, Loss: 0.0200\n",
      "Epoch   5 Batch   45/269 - Train Accuracy: 0.9707, Validation Accuracy: 0.9710, Loss: 0.0195\n",
      "Epoch   5 Batch   50/269 - Train Accuracy: 0.9665, Validation Accuracy: 0.9753, Loss: 0.0273\n",
      "Epoch   5 Batch   55/269 - Train Accuracy: 0.9786, Validation Accuracy: 0.9689, Loss: 0.0181\n",
      "Epoch   5 Batch   60/269 - Train Accuracy: 0.9761, Validation Accuracy: 0.9665, Loss: 0.0214\n",
      "Epoch   5 Batch   65/269 - Train Accuracy: 0.9820, Validation Accuracy: 0.9719, Loss: 0.0143\n",
      "Epoch   5 Batch   70/269 - Train Accuracy: 0.9816, Validation Accuracy: 0.9732, Loss: 0.0199\n",
      "Epoch   5 Batch   75/269 - Train Accuracy: 0.9745, Validation Accuracy: 0.9673, Loss: 0.0232\n",
      "Epoch   5 Batch   80/269 - Train Accuracy: 0.9809, Validation Accuracy: 0.9710, Loss: 0.0172\n",
      "Epoch   5 Batch   85/269 - Train Accuracy: 0.9792, Validation Accuracy: 0.9752, Loss: 0.0185\n",
      "Epoch   5 Batch   90/269 - Train Accuracy: 0.9779, Validation Accuracy: 0.9688, Loss: 0.0199\n",
      "Epoch   5 Batch   95/269 - Train Accuracy: 0.9842, Validation Accuracy: 0.9740, Loss: 0.0177\n",
      "Epoch   5 Batch  100/269 - Train Accuracy: 0.9741, Validation Accuracy: 0.9737, Loss: 0.0230\n",
      "Epoch   5 Batch  105/269 - Train Accuracy: 0.9741, Validation Accuracy: 0.9782, Loss: 0.0210\n",
      "Epoch   5 Batch  110/269 - Train Accuracy: 0.9779, Validation Accuracy: 0.9687, Loss: 0.0156\n",
      "Epoch   5 Batch  115/269 - Train Accuracy: 0.9655, Validation Accuracy: 0.9624, Loss: 0.0231\n",
      "Epoch   5 Batch  120/269 - Train Accuracy: 0.9684, Validation Accuracy: 0.9736, Loss: 0.0212\n",
      "Epoch   5 Batch  125/269 - Train Accuracy: 0.9715, Validation Accuracy: 0.9639, Loss: 0.0188\n",
      "Epoch   5 Batch  130/269 - Train Accuracy: 0.9814, Validation Accuracy: 0.9712, Loss: 0.0186\n",
      "Epoch   5 Batch  135/269 - Train Accuracy: 0.9801, Validation Accuracy: 0.9735, Loss: 0.0201\n",
      "Epoch   5 Batch  140/269 - Train Accuracy: 0.9763, Validation Accuracy: 0.9696, Loss: 0.0213\n",
      "Epoch   5 Batch  145/269 - Train Accuracy: 0.9871, Validation Accuracy: 0.9693, Loss: 0.0174\n",
      "Epoch   5 Batch  150/269 - Train Accuracy: 0.9716, Validation Accuracy: 0.9668, Loss: 0.0258\n",
      "Epoch   5 Batch  155/269 - Train Accuracy: 0.9758, Validation Accuracy: 0.9754, Loss: 0.0172\n",
      "Epoch   5 Batch  160/269 - Train Accuracy: 0.9823, Validation Accuracy: 0.9726, Loss: 0.0159\n",
      "Epoch   5 Batch  165/269 - Train Accuracy: 0.9795, Validation Accuracy: 0.9672, Loss: 0.0188\n",
      "Epoch   5 Batch  170/269 - Train Accuracy: 0.9809, Validation Accuracy: 0.9711, Loss: 0.0206\n",
      "Epoch   5 Batch  175/269 - Train Accuracy: 0.9646, Validation Accuracy: 0.9690, Loss: 0.0283\n",
      "Epoch   5 Batch  180/269 - Train Accuracy: 0.9818, Validation Accuracy: 0.9700, Loss: 0.0190\n",
      "Epoch   5 Batch  185/269 - Train Accuracy: 0.9842, Validation Accuracy: 0.9680, Loss: 0.0199\n",
      "Epoch   5 Batch  190/269 - Train Accuracy: 0.9760, Validation Accuracy: 0.9634, Loss: 0.0214\n",
      "Epoch   5 Batch  195/269 - Train Accuracy: 0.9812, Validation Accuracy: 0.9660, Loss: 0.0195\n",
      "Epoch   5 Batch  200/269 - Train Accuracy: 0.9817, Validation Accuracy: 0.9707, Loss: 0.0230\n",
      "Epoch   5 Batch  205/269 - Train Accuracy: 0.9833, Validation Accuracy: 0.9745, Loss: 0.0219\n",
      "Epoch   5 Batch  210/269 - Train Accuracy: 0.9763, Validation Accuracy: 0.9688, Loss: 0.0176\n",
      "Epoch   5 Batch  215/269 - Train Accuracy: 0.9735, Validation Accuracy: 0.9662, Loss: 0.0206\n",
      "Epoch   5 Batch  220/269 - Train Accuracy: 0.9711, Validation Accuracy: 0.9645, Loss: 0.0213\n",
      "Epoch   5 Batch  225/269 - Train Accuracy: 0.9748, Validation Accuracy: 0.9628, Loss: 0.0194\n",
      "Epoch   5 Batch  230/269 - Train Accuracy: 0.9808, Validation Accuracy: 0.9710, Loss: 0.0193\n",
      "Epoch   5 Batch  235/269 - Train Accuracy: 0.9953, Validation Accuracy: 0.9731, Loss: 0.0151\n",
      "Epoch   5 Batch  240/269 - Train Accuracy: 0.9765, Validation Accuracy: 0.9697, Loss: 0.0200\n",
      "Epoch   5 Batch  245/269 - Train Accuracy: 0.9755, Validation Accuracy: 0.9710, Loss: 0.0214\n",
      "Epoch   5 Batch  250/269 - Train Accuracy: 0.9699, Validation Accuracy: 0.9679, Loss: 0.0240\n",
      "Epoch   5 Batch  255/269 - Train Accuracy: 0.9711, Validation Accuracy: 0.9747, Loss: 0.0197\n",
      "Epoch   5 Batch  260/269 - Train Accuracy: 0.9826, Validation Accuracy: 0.9732, Loss: 0.0184\n",
      "Epoch   5 Batch  265/269 - Train Accuracy: 0.9702, Validation Accuracy: 0.9656, Loss: 0.0209\n",
      "Model Trained and Saved\n"
     ]
    }
   ],
   "source": [
    "\"\"\"\n",
    "DON'T MODIFY ANYTHING IN THIS CELL\n",
    "\"\"\"\n",
    "def get_accuracy(target, logits):\n",
    "    \"\"\"\n",
    "    Calculate accuracy\n",
    "    \"\"\"\n",
    "    max_seq = max(target.shape[1], logits.shape[1])\n",
    "    if max_seq - target.shape[1]:\n",
    "        target = np.pad(\n",
    "            target,\n",
    "            [(0,0),(0,max_seq - target.shape[1])],\n",
    "            'constant')\n",
    "    if max_seq - logits.shape[1]:\n",
    "        logits = np.pad(\n",
    "            logits,\n",
    "            [(0,0),(0,max_seq - logits.shape[1])],\n",
    "            'constant')\n",
    "\n",
    "    return np.mean(np.equal(target, logits))\n",
    "\n",
    "# Split data to training and validation sets\n",
    "train_source = source_int_text[batch_size:]\n",
    "train_target = target_int_text[batch_size:]\n",
    "valid_source = source_int_text[:batch_size]\n",
    "valid_target = target_int_text[:batch_size]\n",
    "(valid_sources_batch, valid_targets_batch, valid_sources_lengths, valid_targets_lengths ) = next(get_batches(valid_source,\n",
    "                                                                                                             valid_target,\n",
    "                                                                                                             batch_size,\n",
    "                                                                                                             source_vocab_to_int['<PAD>'],\n",
    "                                                                                                             target_vocab_to_int['<PAD>']))                                                                                                  \n",
    "with tf.Session(graph=train_graph) as sess:\n",
    "    sess.run(tf.global_variables_initializer())\n",
    "\n",
    "    for epoch_i in range(epochs):\n",
    "        for batch_i, (source_batch, target_batch, sources_lengths, targets_lengths) in enumerate(\n",
    "                get_batches(train_source, train_target, batch_size,\n",
    "                            source_vocab_to_int['<PAD>'],\n",
    "                            target_vocab_to_int['<PAD>'])):\n",
    "\n",
    "            _, loss = sess.run(\n",
    "                [train_op, cost],\n",
    "                {input_data: source_batch,\n",
    "                 targets: target_batch,\n",
    "                 lr: learning_rate,\n",
    "                 target_sequence_length: targets_lengths,\n",
    "                 source_sequence_length: sources_lengths,\n",
    "                 keep_prob: keep_probability})\n",
    "\n",
    "\n",
    "            if batch_i % display_step == 0 and batch_i > 0:\n",
    "\n",
    "\n",
    "                batch_train_logits = sess.run(\n",
    "                    inference_logits,\n",
    "                    {input_data: source_batch,\n",
    "                     source_sequence_length: sources_lengths,\n",
    "                     target_sequence_length: targets_lengths,\n",
    "                     keep_prob: 1.0})\n",
    "\n",
    "\n",
    "                batch_valid_logits = sess.run(\n",
    "                    inference_logits,\n",
    "                    {input_data: valid_sources_batch,\n",
    "                     source_sequence_length: valid_sources_lengths,\n",
    "                     target_sequence_length: valid_targets_lengths,\n",
    "                     keep_prob: 1.0})\n",
    "\n",
    "                train_acc = get_accuracy(target_batch, batch_train_logits)\n",
    "\n",
    "                valid_acc = get_accuracy(valid_targets_batch, batch_valid_logits)\n",
    "\n",
    "                print('Epoch {:>3} Batch {:>4}/{} - Train Accuracy: {:>6.4f}, Validation Accuracy: {:>6.4f}, Loss: {:>6.4f}'\n",
    "                      .format(epoch_i, batch_i, len(source_int_text) // batch_size, train_acc, valid_acc, loss))\n",
    "\n",
    "    # Save Model\n",
    "    saver = tf.train.Saver()\n",
    "    saver.save(sess, save_path)\n",
    "    print('Model Trained and Saved')"
   ]
  },
  {
   "cell_type": "markdown",
   "metadata": {},
   "source": [
    "### Save Parameters\n",
    "Save the `batch_size` and `save_path` parameters for inference."
   ]
  },
  {
   "cell_type": "code",
   "execution_count": 65,
   "metadata": {
    "collapsed": true
   },
   "outputs": [],
   "source": [
    "\"\"\"\n",
    "DON'T MODIFY ANYTHING IN THIS CELL\n",
    "\"\"\"\n",
    "# Save parameters for checkpoint\n",
    "helper.save_params(save_path)"
   ]
  },
  {
   "cell_type": "markdown",
   "metadata": {},
   "source": [
    "# Checkpoint"
   ]
  },
  {
   "cell_type": "code",
   "execution_count": 66,
   "metadata": {
    "collapsed": true
   },
   "outputs": [],
   "source": [
    "\"\"\"\n",
    "DON'T MODIFY ANYTHING IN THIS CELL\n",
    "\"\"\"\n",
    "import tensorflow as tf\n",
    "import numpy as np\n",
    "import helper\n",
    "import problem_unittests as tests\n",
    "\n",
    "_, (source_vocab_to_int, target_vocab_to_int), (source_int_to_vocab, target_int_to_vocab) = helper.load_preprocess()\n",
    "load_path = helper.load_params()"
   ]
  },
  {
   "cell_type": "markdown",
   "metadata": {},
   "source": [
    "## Sentence to Sequence\n",
    "To feed a sentence into the model for translation, you first need to preprocess it.  Implement the function `sentence_to_seq()` to preprocess new sentences.\n",
    "\n",
    "- Convert the sentence to lowercase\n",
    "- Convert words into ids using `vocab_to_int`\n",
    " - Convert words not in the vocabulary, to the `<UNK>` word id."
   ]
  },
  {
   "cell_type": "code",
   "execution_count": 67,
   "metadata": {
    "collapsed": false
   },
   "outputs": [
    {
     "name": "stdout",
     "output_type": "stream",
     "text": [
      "Tests Passed\n"
     ]
    }
   ],
   "source": [
    "def sentence_to_seq(sentence, vocab_to_int):\n",
    "    \"\"\"\n",
    "    Convert a sentence to a sequence of ids\n",
    "    :param sentence: String\n",
    "    :param vocab_to_int: Dictionary to go from the words to an id\n",
    "    :return: List of word ids\n",
    "    \"\"\"\n",
    "    # TODO: Implement Function\n",
    "    sentence, unknown = sentence.lower(), vocab_to_int[\"<UNK>\"]\n",
    "    ids = [vocab_to_int.get(word, unknown) for word in sentence.split()]\n",
    "    return ids\n",
    "\n",
    "\n",
    "\"\"\"\n",
    "DON'T MODIFY ANYTHING IN THIS CELL THAT IS BELOW THIS LINE\n",
    "\"\"\"\n",
    "tests.test_sentence_to_seq(sentence_to_seq)"
   ]
  },
  {
   "cell_type": "markdown",
   "metadata": {},
   "source": [
    "## Translate\n",
    "This will translate `translate_sentence` from English to French."
   ]
  },
  {
   "cell_type": "code",
   "execution_count": 68,
   "metadata": {
    "collapsed": false
   },
   "outputs": [
    {
     "name": "stdout",
     "output_type": "stream",
     "text": [
      "INFO:tensorflow:Restoring parameters from checkpoints/dev\n",
      "Input\n",
      "  Word Ids:      [135, 201, 140, 141, 109, 108, 33]\n",
      "  English Words: ['he', 'saw', 'a', 'old', 'yellow', 'truck', '.']\n",
      "\n",
      "Prediction\n",
      "  Word Ids:      [81, 230, 260, 271, 305, 172, 87, 104, 1]\n",
      "  French Words: il a vu un vieux camion jaune . <EOS>\n"
     ]
    }
   ],
   "source": [
    "translate_sentence = 'he saw a old yellow truck .'\n",
    "\n",
    "\n",
    "\"\"\"\n",
    "DON'T MODIFY ANYTHING IN THIS CELL\n",
    "\"\"\"\n",
    "translate_sentence = sentence_to_seq(translate_sentence, source_vocab_to_int)\n",
    "\n",
    "loaded_graph = tf.Graph()\n",
    "with tf.Session(graph=loaded_graph) as sess:\n",
    "    # Load saved model\n",
    "    loader = tf.train.import_meta_graph(load_path + '.meta')\n",
    "    loader.restore(sess, load_path)\n",
    "\n",
    "    input_data = loaded_graph.get_tensor_by_name('input:0')\n",
    "    logits = loaded_graph.get_tensor_by_name('predictions:0')\n",
    "    target_sequence_length = loaded_graph.get_tensor_by_name('target_sequence_length:0')\n",
    "    source_sequence_length = loaded_graph.get_tensor_by_name('source_sequence_length:0')\n",
    "    keep_prob = loaded_graph.get_tensor_by_name('keep_prob:0')\n",
    "\n",
    "    translate_logits = sess.run(logits, {input_data: [translate_sentence]*batch_size,\n",
    "                                         target_sequence_length: [len(translate_sentence)*2]*batch_size,\n",
    "                                         source_sequence_length: [len(translate_sentence)]*batch_size,\n",
    "                                         keep_prob: 1.0})[0]\n",
    "\n",
    "print('Input')\n",
    "print('  Word Ids:      {}'.format([i for i in translate_sentence]))\n",
    "print('  English Words: {}'.format([source_int_to_vocab[i] for i in translate_sentence]))\n",
    "\n",
    "print('\\nPrediction')\n",
    "print('  Word Ids:      {}'.format([i for i in translate_logits]))\n",
    "print('  French Words: {}'.format(\" \".join([target_int_to_vocab[i] for i in translate_logits])))\n"
   ]
  },
  {
   "cell_type": "markdown",
   "metadata": {},
   "source": [
    "## Imperfect Translation\n",
    "You might notice that some sentences translate better than others.  Since the dataset you're using only has a vocabulary of 227 English words of the thousands that you use, you're only going to see good results using these words.  For this project, you don't need a perfect translation. However, if you want to create a better translation model, you'll need better data.\n",
    "\n",
    "You can train on the [WMT10 French-English corpus](http://www.statmt.org/wmt10/training-giga-fren.tar).  This dataset has more vocabulary and richer in topics discussed.  However, this will take you days to train, so make sure you've a GPU and the neural network is performing well on dataset we provided.  Just make sure you play with the WMT10 corpus after you've submitted this project.\n",
    "## Submitting This Project\n",
    "When submitting this project, make sure to run all the cells before saving the notebook. Save the notebook file as \"dlnd_language_translation.ipynb\" and save it as a HTML file under \"File\" -> \"Download as\". Include the \"helper.py\" and \"problem_unittests.py\" files in your submission."
   ]
  }
 ],
 "metadata": {
  "anaconda-cloud": {},
  "kernelspec": {
   "display_name": "Python 3",
   "language": "python",
   "name": "python3"
  },
  "language_info": {
   "codemirror_mode": {
    "name": "ipython",
    "version": 3
   },
   "file_extension": ".py",
   "mimetype": "text/x-python",
   "name": "python",
   "nbconvert_exporter": "python",
   "pygments_lexer": "ipython3",
   "version": "3.5.2"
  }
 },
 "nbformat": 4,
 "nbformat_minor": 1
}
